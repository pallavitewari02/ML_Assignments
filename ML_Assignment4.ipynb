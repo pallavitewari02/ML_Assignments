{
 "cells": [
  {
   "cell_type": "markdown",
   "id": "028f94bb",
   "metadata": {},
   "source": [
    "Q1.What are the key tasks involved in getting ready to work with machine learning modeling ?"
   ]
  },
  {
   "cell_type": "markdown",
   "id": "4ab5ce5a",
   "metadata": {},
   "source": [
    "Sol: The Key Tasks involved in getting ready to work with Machine learning Modelling are:\n",
    "\n",
    "<br>\n",
    "1.Data collection: Defining the problem and assembling a dataset.\n",
    "<br>    \n",
    "2.Data preparation: Preparing your data.\n",
    "<br>\n",
    "3.Choosing a Model\n",
    "<br>\n",
    "4.Training the Model: Developing a model that does better than a baseline.\n",
    "<br>\n",
    "5.Evaluating the Model: Choosing a measure of success. Deciding on an evaluation protocol.\n",
    "<br>    \n",
    "6.Parameter tuning: Scaling up: developing a model that overfits.Regularizing your model and tuning your parameters.\n",
    "<br>        \n",
    "7.Prediction or Inference."
   ]
  },
  {
   "cell_type": "markdown",
   "id": "10014255",
   "metadata": {},
   "source": [
    "Q2. What are the different forms of data used in machine learning ? Give a specific example for each of them ?"
   ]
  },
  {
   "cell_type": "markdown",
   "id": "bd5990fb",
   "metadata": {},
   "source": [
    "Most data can be categorized into 4 basic types from a Machine Learning perspective: <b>Numerical Data</b>, <b>Categorical Data</b>, <b>Time-Series Data</b>, and <b>Text data</b>."
   ]
  },
  {
   "cell_type": "markdown",
   "id": "092bd6b3",
   "metadata": {},
   "source": [
    "<b>Numerical Data</b>:\n",
    "Numerical data is any data where data points are exact numbers. Statisticians also might call numerical data, quantitative data. This data has meaning as a measurement such as house prices or as a count, such as a number of residential properties in Los Angeles or how many houses sold in the past year.\n",
    "Numerical data can be characterized by continuous or discrete data. Continuous data can assume any value within a range whereas discrete data has distinct values.\n",
    "\n",
    "<b>Categorical Data</b>:\n",
    "Categorical data represents characteristics, such as a hockey player’s position, team, hometown. Categorical data can take numerical values. For example, maybe we would use 1 for the colour red and 2 for blue. But these numbers don’t have a mathematical meaning. That is, we can’t add them together or take the average.\n",
    "\n",
    "<b>Time Series Data</b>:\n",
    "Time series data is a sequence of numbers collected at regular intervals over some period of time. It is very important, especially in particular fields like finance. Time series data has a temporal value attached to it, so this would be something like a date or a timestamp that you can look for trends in time.\n",
    "\n",
    "<b>Text</b>:\n",
    "Text data is basically just words. A lot of the time the first thing that you do with text is you turn it into numbers using some interesting functions like the bag of words formulation.\n",
    "\n"
   ]
  },
  {
   "cell_type": "markdown",
   "id": "0e482a5e",
   "metadata": {},
   "source": [
    "Q3. Distinguish between :\n",
    "<br>\n",
    "Numeric vs. categorical attributes\n",
    "<br>\n",
    "Feature selection vs. dimensionality reduction"
   ]
  },
  {
   "cell_type": "markdown",
   "id": "4ccb1d5c",
   "metadata": {},
   "source": [
    "Sol: The following are the differences between:\n",
    "\n",
    "<b>Numeric vs. categorical attributes</b>:\n",
    "* Numerical data are values obtained for quantitative variable, and carries a sense of magnitude related to the context of the variable (hence, they are always numbers or symbols carrying a numerical value).\n",
    "* Categorical data are values obtained for a qualitative variable. categorical data numbers do not carry a sense of magnitude.\n",
    "* Numerical data always belong to either ordinal, ratio, or interval type, whereas categorical data belong to nominal type. - - Methods used to analyse quantitative data are different from the methods used for categorical data, even if the principles are the same at least the application has significant differences.\n",
    "* Numerical data are analysed using statistical methods in descriptive statistics, regression, time series and many more.For categorical data usually descriptive methods and graphical methods are employed. Some non-parametric tests are also used.\n",
    "<br>\n",
    "<b>Feature selection vs. dimensionality reduction</b>\n",
    "* Feature selection you just select a subset of the original feature set, without any manipulation of the data on the other hand.\n",
    "* Dimensionality reduction is typically choosing a new representation within which you can describe most but not all of the variance within your data, thereby retaining the relevant information, while reducing theamount of information necessary to represent it."
   ]
  },
  {
   "cell_type": "markdown",
   "id": "9397f217",
   "metadata": {},
   "source": [
    "Q4. Make quick notes on any two of the following ?\n",
    "<br>\n",
    "1.The histogram\n",
    "<br>\n",
    "2.Use a scatter plot\n",
    "<br>\n",
    "3.PCA (Personal Computer Aid)"
   ]
  },
  {
   "cell_type": "markdown",
   "id": "3266d938",
   "metadata": {},
   "source": [
    "Sol: The Quick notes on the following three topics is:\n",
    "        <br>\n",
    "\n",
    "<b>The histogram</b>: A Histogram is a graphical representation that organizes a group of data points into user-specified ranges. Similar in appearance to a bar graph, the histogram condenses a data series into an easily interpreted visual by taking many data points and grouping them into logical ranges or bins.\n",
    "<br>\n",
    "<b>Use a scatter plot</b>: A scatter plot (aka scatter chart, scatter graph) uses dots to represent values for two different numeric variables. The position of each dot on the horizontal and vertical axis indicates values for an individual data point. Scatter plots are used to observe relationships between variables.\n",
    "<br>\n",
    "<b>PCA (Personal Computer Aid)</b>: Principal Component Analysis or PCA is a widely used technique for dimensionality reduction of the large data set. Reducing the number of components or features costs some accuracy and on the other hand, it makes the large data set simpler, easy to explore and visualize."
   ]
  },
  {
   "cell_type": "markdown",
   "id": "fd82a1be",
   "metadata": {},
   "source": [
    "Q5. Why is it necessary to investigate data? Is there a discrepancy in how qualitative and quantitative data are explored ?"
   ]
  },
  {
   "cell_type": "markdown",
   "id": "80fc8b98",
   "metadata": {},
   "source": [
    "Sol:  If your data set is messy, building models will not help you to solve your problem. What will happen is Garbage In, Garbage Out. In order to build a powerful machine learning algorithm. We need to explore and understand our data set before we define a predictive task and solve it."
   ]
  },
  {
   "cell_type": "markdown",
   "id": "777e2c8c",
   "metadata": {},
   "source": [
    "Q6. What are the various histogram shapes? What exactly are ‘bins' ?"
   ]
  },
  {
   "cell_type": "markdown",
   "id": "402f9f17",
   "metadata": {},
   "source": [
    "Sol: The different types of a Histogram are:\n",
    "<br>\n",
    "1.Uniform Histogram\n",
    "<br>\n",
    "2.Symmetric Histogram\n",
    "<br>\n",
    "3.Bimodal Histogram\n",
    "<br>\n",
    "4.Probability Histogram.\n",
    "<br>\n",
    "<br>\n",
    "The bin in a histogram is the choice of unit and spacing on the X-axis. All the data in a probability distribution represented visually by a histogram is filled into the corresponding bins. The height of each bin is a measurement of the frequency with which data appears inside the range of that bin in the distribution."
   ]
  },
  {
   "cell_type": "markdown",
   "id": "3f37d47c",
   "metadata": {},
   "source": [
    "Q7. How do we deal with data outliers ?"
   ]
  },
  {
   "cell_type": "markdown",
   "id": "7cf32f84",
   "metadata": {},
   "source": [
    "Sol: We can use Z-Score or any of below methods to deal with data outliers:\n",
    "\n",
    "<b>Univariate Method</b>: This method looks for data points with extreme values on one variable.\n",
    "\n",
    "<b>Multivariate Method</b>: Here, we look for unusual combinations of all the variables.\n",
    "\n",
    "<b>Minkowski Error</b>: This method reduces the contribution of potential outliers in the training process.\n",
    "\n",
    "<b>Z-Score</b>: This can be done with just one line code as we have already calculated the Z-score.\n",
    "boston_df_o = boston_df_o[(z < 3).all(axis=1)]\n",
    "\n",
    "<b>IQR Score</b>: Calculate IQR score to filter out the outliers by keeping only valid values.\n",
    "boston_df_out = boston_df_o1[~((boston_df_o1 < (Q1 - 1.5 * IQR)) |(boston_df_o1 > (Q3 + 1.5 *IQR))).any(axis=1)]\n",
    "boston_df_out.shape\n",
    "\n",
    "<b>Quantile function</b>: Use quantile() to remove amount of data."
   ]
  },
  {
   "cell_type": "markdown",
   "id": "0b5fd015",
   "metadata": {},
   "source": [
    "Q8. What are the various central inclination measures? Why does mean vary too much from median in certain data sets ?"
   ]
  },
  {
   "cell_type": "markdown",
   "id": "6edce713",
   "metadata": {},
   "source": [
    "sol: Mean, Median and Mode are Central Inclination Measures. Mean varies more than Median due to presence of outliers, as mean is averaging all points while median in like finding a middle number."
   ]
  },
  {
   "cell_type": "markdown",
   "id": "a7681a4c",
   "metadata": {},
   "source": [
    "Q9. Describe how a scatter plot can be used to investigate bivariate relationships. Is it possible to find outliers using a scatter plot ?"
   ]
  },
  {
   "cell_type": "markdown",
   "id": "294d4782",
   "metadata": {},
   "source": [
    "Sol: A Scatter Plot (aka scatter chart, scatter graph) uses dots to represent values for two different numeric variables. The position of each dot on the horizontal and vertical axis indicates values for an individual data point. So this visualization gives us the idea of bivariate relationship."
   ]
  },
  {
   "cell_type": "code",
   "execution_count": null,
   "id": "50c6d6b9",
   "metadata": {},
   "outputs": [],
   "source": []
  }
 ],
 "metadata": {
  "kernelspec": {
   "display_name": "Python 3 (ipykernel)",
   "language": "python",
   "name": "python3"
  },
  "language_info": {
   "codemirror_mode": {
    "name": "ipython",
    "version": 3
   },
   "file_extension": ".py",
   "mimetype": "text/x-python",
   "name": "python",
   "nbconvert_exporter": "python",
   "pygments_lexer": "ipython3",
   "version": "3.9.12"
  }
 },
 "nbformat": 4,
 "nbformat_minor": 5
}
