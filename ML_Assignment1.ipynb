{
 "cells": [
  {
   "cell_type": "markdown",
   "id": "21980f8d",
   "metadata": {},
   "source": [
    "Q1. What does one mean by the term \"machine learning\" ?"
   ]
  },
  {
   "cell_type": "markdown",
   "id": "525726f8",
   "metadata": {},
   "source": [
    "Sol: Machine learning Popularly known as ML is a branch of Artificial Intelligence (AI) that allows software applications to become more accurate at predicting outcomes without being explicitly programmed to do so. Machine learning algorithms use historical data as input to predict new output values."
   ]
  },
  {
   "cell_type": "markdown",
   "id": "e91fcd2e",
   "metadata": {},
   "source": [
    "Q2. Can you think of 4 distinct types of issues where it shines ?"
   ]
  },
  {
   "cell_type": "markdown",
   "id": "5c48eccf",
   "metadata": {},
   "source": [
    "Sol: The following are some of the issues where Machine Learning can be used:\n",
    "\n",
    "* Image Recognition: Image recognition is one of the most common applications of machine learning. It is used to identify objects, persons, places, digital images, etc. The popular use case of image recognition and face detection is Automatic friend tagging suggestion.\n",
    "\n",
    "* Speech Recognition: While using Google, we get an option of Search by voice, it comes under speech recognition, and it's a popular application of Machine Learning. Speech recognition is a process of converting voice instructions into text, and it is also known as Speech to text, or Computer based speech recognition At present, machine learning algorithms are widely used by various applications of speech recognition. Google assistant, Siri, Cortana, and Alexa are using speech recognition technology to follow the voice instructions.\n",
    "\n",
    "* Traffic prediction: It predicts the traffic conditions such as whether traffic is cleared, slow-moving, or heavily congested with the help of two ways: Real Time location of the vehicle form Google Map app and sensors Average time has taken on past days at the same time.\n",
    "\n",
    "* Product recommendations: Machine learning is widely used by various e-commerce and entertainment companies such as Amazon, Netflix, etc., for product recommendation to the user."
   ]
  },
  {
   "cell_type": "markdown",
   "id": "2656fce9",
   "metadata": {},
   "source": [
    "Q3.What is a labeled training set, and how does it work ?\n"
   ]
  },
  {
   "cell_type": "markdown",
   "id": "5b9146c0",
   "metadata": {},
   "source": [
    "Sol: You split up the data containing known response variable values into two pieces. The training set is used to train the algorithm, and then you use the trained model on the test set to predict the response variable values that are already known."
   ]
  },
  {
   "cell_type": "markdown",
   "id": "8f9b39a9",
   "metadata": {},
   "source": [
    "Q4. What are the two most important tasks that are supervised ?"
   ]
  },
  {
   "cell_type": "markdown",
   "id": "46519c5c",
   "metadata": {},
   "source": [
    "Sol: The two most common supervised learning tasks are Regression and Classification."
   ]
  },
  {
   "cell_type": "markdown",
   "id": "043bd1a4",
   "metadata": {},
   "source": [
    "Q5. Can you think of four examples of unsupervised tasks ?"
   ]
  },
  {
   "cell_type": "markdown",
   "id": "3f73b2f9",
   "metadata": {},
   "source": [
    "Sol: Four common Unsupervised Tasks included Clustering, Visualization, Dimensionality Reduction, and Association Rule Learning."
   ]
  },
  {
   "cell_type": "markdown",
   "id": "218650fe",
   "metadata": {},
   "source": [
    "Q6. State the machine learning model that would be best to make a robot walk through various unfamiliar terrains ?"
   ]
  },
  {
   "cell_type": "markdown",
   "id": "2c2a3296",
   "metadata": {},
   "source": [
    "Sol: The best Machine Learning algorithm to allow a Robot to walk in unfamiliar terrains is Reinforced Learning, where the robot can learn from response of the terrain to optimize itself."
   ]
  },
  {
   "cell_type": "markdown",
   "id": "24fa3d78",
   "metadata": {},
   "source": [
    "Q7. Which algorithm will you use to divide your customers into different groups ?"
   ]
  },
  {
   "cell_type": "markdown",
   "id": "a714cf12",
   "metadata": {},
   "source": [
    "Sol: The Best Algorithm to Segment Customers into different groups is either Supervised Learning (if the groups have known labels) or Unsupervised Learning (if there are no group labels)."
   ]
  },
  {
   "cell_type": "markdown",
   "id": "5847fc84",
   "metadata": {},
   "source": [
    "Q8. Will you consider the problem of spam detection to be a supervised or unsupervised learning problem ?"
   ]
  },
  {
   "cell_type": "markdown",
   "id": "cf1ef747",
   "metadata": {},
   "source": [
    "Sol: Spam detection is a Supervised Machine Learning problem because the labels are known (spam or no spam)."
   ]
  },
  {
   "cell_type": "markdown",
   "id": "47a47d9a",
   "metadata": {},
   "source": [
    "Q9. What is the concept of an online learning system ?"
   ]
  },
  {
   "cell_type": "markdown",
   "id": "cf8a1687",
   "metadata": {},
   "source": [
    "Sol: Online learning system is a learning system in which the machine learns continously, as data is given in small streams continuously."
   ]
  },
  {
   "cell_type": "markdown",
   "id": "928a238e",
   "metadata": {},
   "source": [
    "Q10. What is out-of-core learning, and how does it differ from core learning ?"
   ]
  },
  {
   "cell_type": "markdown",
   "id": "b04c59f6",
   "metadata": {},
   "source": [
    "Sol: Out-of-core learning system is a system that can handle data that cannot fit into your computer memory. It uses online learning system to feed data in small bits."
   ]
  },
  {
   "cell_type": "markdown",
   "id": "975cceee",
   "metadata": {},
   "source": [
    "Q11. What kind of learning algorithm makes predictions using a similarity measure ?"
   ]
  },
  {
   "cell_type": "markdown",
   "id": "92f56fdb",
   "metadata": {},
   "source": [
    "Sol: Learning algorithm that relies on a similarity measure to make predictions is Instance Based Algorithm."
   ]
  },
  {
   "cell_type": "markdown",
   "id": "040a6a5d",
   "metadata": {},
   "source": [
    "Q12. What's the difference between a model parameter and a hyperparameter in a learning algorithm ?"
   ]
  },
  {
   "cell_type": "markdown",
   "id": "4dca3e19",
   "metadata": {},
   "source": [
    "Sol: Model parameter determines how a model will predict given a new instance. Model usually has more than one parameter (i.e. slope of a linear model). Hyperparameter is a parameter for the learning algorithm, not of a model."
   ]
  },
  {
   "cell_type": "markdown",
   "id": "9203b15b",
   "metadata": {},
   "source": [
    "Q13. What are the criteria that model-based learning algorithms look for? What is the most popular method they use to achieve success? What method do they use to make predictions ?"
   ]
  },
  {
   "cell_type": "markdown",
   "id": "b7b00e9f",
   "metadata": {},
   "source": [
    "Sol: Model based learning algorithm search for the optimal value of parameters in a model that will give the best results for the new instances. We often use a cost function or similar to determine what the parameter value has to be in order to minimize the function. The model makes prediction by using the value of the new instance and the parameters in its function."
   ]
  },
  {
   "cell_type": "markdown",
   "id": "d17d5890",
   "metadata": {},
   "source": [
    "Q14. Can you name four of the most important Machine Learning challenges ?"
   ]
  },
  {
   "cell_type": "markdown",
   "id": "520b39c1",
   "metadata": {},
   "source": [
    "Sol: Four main challenges in Machine Learning include the following:\n",
    "1. Overfitting the Data (using a model too complicated)\n",
    "2. Underfitting the data (using a simple model)\n",
    "3. Lacking in Data\n",
    "4. Non Representative Data."
   ]
  },
  {
   "cell_type": "markdown",
   "id": "21d2bcf3",
   "metadata": {},
   "source": [
    "Q15. What happens if the model performs well on the training data but fails to generalize the results to new situations? Can you think of three different options ?"
   ]
  },
  {
   "cell_type": "markdown",
   "id": "ada95572",
   "metadata": {},
   "source": [
    "Sol:  If the model performs poorly to new instances, then it has overfitted on the training data. To solve this, we can do any of the following three:\n",
    "\n",
    "* Get more data\n",
    "* Implement a simpler model\n",
    "* Eliminate outliers or noise from the existing data set."
   ]
  },
  {
   "cell_type": "markdown",
   "id": "78b808c0",
   "metadata": {},
   "source": [
    "Q16. What exactly is a test set, and why would you need one ?"
   ]
  },
  {
   "cell_type": "markdown",
   "id": "7c0d32c1",
   "metadata": {},
   "source": [
    "Sol: Test set is a set to test your model (fit using training data) to see how it performs.Test set is necessary to determine how good (or bad) a model performs."
   ]
  },
  {
   "cell_type": "markdown",
   "id": "1769382b",
   "metadata": {},
   "source": [
    "Q17. What is a validation set's purpose ?"
   ]
  },
  {
   "cell_type": "markdown",
   "id": "d3806c68",
   "metadata": {},
   "source": [
    "Sol: Validation set is a set used to compare between different training models."
   ]
  },
  {
   "cell_type": "markdown",
   "id": "02e0f34d",
   "metadata": {},
   "source": [
    "Q18. What precisely is the train-dev kit, when will you need it, how do you put it to use ?"
   ]
  },
  {
   "cell_type": "markdown",
   "id": "3d8f0409",
   "metadata": {},
   "source": [
    "Sol: Cross-validation is a tool to compare models without needing a separate validation set. It is preferred over validation set because we can save from breaking of part of the training set to create a validation set, as having more data is valuable regardless."
   ]
  },
  {
   "cell_type": "markdown",
   "id": "cc85f4ad",
   "metadata": {},
   "source": [
    "Q19. What could go wrong if you use the test set to tune hyperparameters ?"
   ]
  },
  {
   "cell_type": "markdown",
   "id": "7e90b445",
   "metadata": {},
   "source": [
    "Sol: If you tune hyperparameters using the test sets, then it may not perform well on the out-of-sample data because the model is tuned just for that specific set."
   ]
  },
  {
   "cell_type": "code",
   "execution_count": null,
   "id": "65e4419a",
   "metadata": {},
   "outputs": [],
   "source": []
  }
 ],
 "metadata": {
  "kernelspec": {
   "display_name": "Python 3 (ipykernel)",
   "language": "python",
   "name": "python3"
  },
  "language_info": {
   "codemirror_mode": {
    "name": "ipython",
    "version": 3
   },
   "file_extension": ".py",
   "mimetype": "text/x-python",
   "name": "python",
   "nbconvert_exporter": "python",
   "pygments_lexer": "ipython3",
   "version": "3.9.12"
  }
 },
 "nbformat": 4,
 "nbformat_minor": 5
}
