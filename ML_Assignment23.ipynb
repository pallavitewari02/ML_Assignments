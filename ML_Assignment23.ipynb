{
 "cells": [
  {
   "cell_type": "markdown",
   "id": "e91499ba",
   "metadata": {},
   "source": [
    "Q1.What are the key reasons for reducing the dimensionality of a dataset? What are the major disadvantages ?"
   ]
  },
  {
   "cell_type": "markdown",
   "id": "aca42f71",
   "metadata": {},
   "source": [
    "Disadvantages of Dimensionality Reduction:\n",
    "\n",
    " - It may lead to some amount of data loss.\n",
    "<br>\n",
    " - PCA tends to find linear correlations between variables, which is sometimes undesirable.\n",
    "<br>\n",
    " - PCA fails in cases where mean and covariance are not enough to define datasets."
   ]
  },
  {
   "cell_type": "markdown",
   "id": "7266992b",
   "metadata": {},
   "source": [
    "Q2.What is the dimensionality curse ?"
   ]
  },
  {
   "cell_type": "markdown",
   "id": "bba320f2",
   "metadata": {},
   "source": [
    "The curse of dimensionality basically means that the error increases with the increase in the number of features. It refers to the fact that algorithms are harder to design in high dimensions and often have a running time exponential in the dimensions."
   ]
  },
  {
   "cell_type": "markdown",
   "id": "1c8b8543",
   "metadata": {},
   "source": [
    "Q3.Tell if its possible to reverse the process of reducing the dimensionality of a dataset? If so, how can you go about doing it? If not, what is the reason ?"
   ]
  },
  {
   "cell_type": "markdown",
   "id": "079979c5",
   "metadata": {},
   "source": [
    "No, dimensionality reduction is not reversible in general."
   ]
  },
  {
   "cell_type": "markdown",
   "id": "73df60ab",
   "metadata": {},
   "source": [
    "Q4.Can PCA be utilized to reduce the dimensionality of a nonlinear dataset with a lot of variables ?"
   ]
  },
  {
   "cell_type": "markdown",
   "id": "cc89d6ed",
   "metadata": {},
   "source": [
    "Well it Depends on dataset. If it is comprised of points that are perfectly aligned, PCA can reduce the dataset down to 1 dimension and preserve 95% of the variance."
   ]
  },
  {
   "cell_type": "markdown",
   "id": "e9a58ea1",
   "metadata": {},
   "source": [
    "Q5.Assume you're running PCA on a 1,000-dimensional dataset with a 95 percent explained variance ratio. What is the number of dimensions that the resulting dataset would have ?"
   ]
  },
  {
   "cell_type": "markdown",
   "id": "527f110b",
   "metadata": {},
   "source": [
    "If I perform PCA on a 1,000-dimensional dataset, setting the explained variance ratio to 95%. In this case roughly 950 dimensions are required to preserve 95% of the variance. So the answer is, it depends on the dataset, and it could be any number between 1 and 950."
   ]
  },
  {
   "cell_type": "markdown",
   "id": "6a367cf2",
   "metadata": {},
   "source": [
    "Q6.Will you use vanilla PCA, incremental PCA, randomized PCA, or kernel PCA in which situations ?"
   ]
  },
  {
   "cell_type": "markdown",
   "id": "4d81a796",
   "metadata": {},
   "source": [
    "The following are the scenarios where the following are used:\n",
    "<br>\n",
    "\n",
    " - Vanilla PCA: the dataset fit in memory\n",
    "<br>\n",
    " - Incremental PCA: larget dataset that don't fit in memory, online taks\n",
    "<br>\n",
    " - Randomized PCA: considerably reduce dimensionality and the dataset fit the memory.\n",
    " <br>\n",
    " - kernel PCA: used for nonlinear PCA"
   ]
  },
  {
   "cell_type": "markdown",
   "id": "47b963d3",
   "metadata": {},
   "source": [
    "Q7.How do you assess a dimensionality reduction algorithm's success on your dataset ?"
   ]
  },
  {
   "cell_type": "markdown",
   "id": "3aeb5688",
   "metadata": {},
   "source": [
    "By doing PCA, it is a good choice for dimensionality reduction and visualization for datasets with a large number of variables."
   ]
  },
  {
   "cell_type": "markdown",
   "id": "0200d348",
   "metadata": {},
   "source": [
    "Q8.Is it logical to use two different dimensionality reduction algorithms in a chain ?"
   ]
  },
  {
   "cell_type": "markdown",
   "id": "1b187655",
   "metadata": {},
   "source": [
    "Indeed, it often make any sense to chain two different dimensionality reduction algorithms. A common example is using PCA to quickly get rid of a large number of useless dimensions, then applying another much slower dimensionality reduction algorithm, such as LLE."
   ]
  },
  {
   "cell_type": "code",
   "execution_count": null,
   "id": "ad8414d3",
   "metadata": {},
   "outputs": [],
   "source": []
  }
 ],
 "metadata": {
  "kernelspec": {
   "display_name": "Python 3 (ipykernel)",
   "language": "python",
   "name": "python3"
  },
  "language_info": {
   "codemirror_mode": {
    "name": "ipython",
    "version": 3
   },
   "file_extension": ".py",
   "mimetype": "text/x-python",
   "name": "python",
   "nbconvert_exporter": "python",
   "pygments_lexer": "ipython3",
   "version": "3.9.12"
  }
 },
 "nbformat": 4,
 "nbformat_minor": 5
}
