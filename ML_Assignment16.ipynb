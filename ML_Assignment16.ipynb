{
 "cells": [
  {
   "cell_type": "markdown",
   "id": "b6e3d44e",
   "metadata": {},
   "source": [
    "Q1.In a linear equation, what is the difference between a dependent variable and an independent variable ?"
   ]
  },
  {
   "cell_type": "markdown",
   "id": "761d1f72",
   "metadata": {},
   "source": [
    "Algebraically, a linear equation typically takes the form y = mx + b, where m and b are constants, x is the independent variable, y is the dependent variable. The slope tells us how the dependent variable (y) changes for every one unit increase in the independent (x) variable, on average.\n",
    "\n",
    "The variables in a study of a cause-and-effect relationship are called the independent and dependent variables. The independent variable is the cause. Its value is independent of other variables in your study. "
   ]
  },
  {
   "cell_type": "markdown",
   "id": "9e1f5e33",
   "metadata": {},
   "source": [
    "Q2.What is the concept of simple linear regression? Give a specific example ?"
   ]
  },
  {
   "cell_type": "markdown",
   "id": "c350b86d",
   "metadata": {},
   "source": [
    "Simple linear regression is a regression model that estimates the relationship between one independent variable and one dependent variable using a straight line. Both variables should be quantitative. Linear regression most often uses mean-square error (MSE) to calculate the error of the model.\n",
    "\n",
    "For example, suppose that height was the only determinant of body weight.In this example, if an individual was 70 inches tall, we would predict his weight to be: Weight = 80 + 2 x (70) = 220 lbs. In this simple linear regression, we are examining the impact of one independent variable on the outcome."
   ]
  },
  {
   "cell_type": "markdown",
   "id": "86c5bb0b",
   "metadata": {},
   "source": [
    "Q3.In a linear regression, define the slope ?"
   ]
  },
  {
   "cell_type": "markdown",
   "id": "1f4d0521",
   "metadata": {},
   "source": [
    "The slope of a regression line (b) represents the rate of change in y as x changes. Because y is dependent on x, the slope describes the predicted values of y given x. The slope must be calculated before the y-intercept when using a linear regression, as the intercept is calculated using the slope."
   ]
  },
  {
   "cell_type": "markdown",
   "id": "1ca5e86b",
   "metadata": {},
   "source": [
    "Q4. Determine the graph's slope, where the lower point on the line is represented as (3, 2) and the higher point is represented as (2, 2) ?"
   ]
  },
  {
   "cell_type": "markdown",
   "id": "08dbf2e8",
   "metadata": {},
   "source": [
    "The graph's slope, where the lower point on the line is represented as (3, 2) and the higher point is represented as (2, 2) is 0"
   ]
  },
  {
   "cell_type": "markdown",
   "id": "b4f6445a",
   "metadata": {},
   "source": [
    "Q5.In linear regression, what are the conditions for a positive slope ?"
   ]
  },
  {
   "cell_type": "markdown",
   "id": "edb47213",
   "metadata": {},
   "source": [
    "If the slope is positive, y increases as x increases, and the function runs \"uphill\" (going left to right). If the slope is zero, y does not change, thus is constant—a horizontal line."
   ]
  },
  {
   "cell_type": "markdown",
   "id": "f4db09be",
   "metadata": {},
   "source": [
    "Q6.In linear regression, what are the conditions for a negative slope ?"
   ]
  },
  {
   "cell_type": "markdown",
   "id": "90e03f5d",
   "metadata": {},
   "source": [
    "If the slope is negative, y decreases as x increases and the function runs downhill."
   ]
  },
  {
   "cell_type": "markdown",
   "id": "4c461ec0",
   "metadata": {},
   "source": [
    "Q7.What is multiple linear regression and how does it work ?"
   ]
  },
  {
   "cell_type": "markdown",
   "id": "05a2b68b",
   "metadata": {},
   "source": [
    "Multiple linear regression refers to a statistical technique that uses two or more independent variables to predict the outcome of a dependent variable. The technique enables analysts to determine the variation of the model and the relative contribution of each independent variable in the total variance."
   ]
  },
  {
   "cell_type": "markdown",
   "id": "5747143a",
   "metadata": {},
   "source": [
    "Q8.In multiple linear regression, define the number of squares due to error ?"
   ]
  },
  {
   "cell_type": "markdown",
   "id": "1834dfdf",
   "metadata": {},
   "source": [
    "The mean squared error (MSE) tells you how close a regression line is to a set of points. It does this by taking the distances from the points to the regression line (these distances are the “errors”) and squaring them. It's called the mean squared error as you're finding the average of a set of errors."
   ]
  },
  {
   "cell_type": "markdown",
   "id": "ba41070c",
   "metadata": {},
   "source": [
    "Q9.In multiple linear regression, define the number of squares due to regression ?"
   ]
  },
  {
   "cell_type": "markdown",
   "id": "dafd7f2c",
   "metadata": {},
   "source": [
    "Sum of squares is a statistical technique used in regression analysis to determine the dispersion of data points. In a regression analysis, the goal is to determine how well a data series can be fitted to a function that might help to explain how the data series was generated."
   ]
  },
  {
   "cell_type": "markdown",
   "id": "a1ecf08a",
   "metadata": {},
   "source": [
    "Q10. In a regression equation, what is multicollinearity ?"
   ]
  },
  {
   "cell_type": "markdown",
   "id": "58f77db2",
   "metadata": {},
   "source": [
    "Multicollinearity occurs when two or more independent variables are highly correlated with one another in a regression model. This means that an independent variable can be predicted from another independent variable in a regression model."
   ]
  },
  {
   "cell_type": "markdown",
   "id": "f4e1d75d",
   "metadata": {},
   "source": [
    "Q11.What is heteroskedasticity, and what does it mean ?"
   ]
  },
  {
   "cell_type": "markdown",
   "id": "63f19a20",
   "metadata": {},
   "source": [
    "Heteroskedasticity (also spelled heteroscedasticity) refers to the error variance, or dependence of scattering, within a minimum of one independent variable within a particular sample.A common cause of variances outside the minimum requirement is often attributed to issues of data quality."
   ]
  },
  {
   "cell_type": "markdown",
   "id": "98a58aa9",
   "metadata": {},
   "source": [
    "Q12.Describe the concept of ridge regression ?"
   ]
  },
  {
   "cell_type": "markdown",
   "id": "7e5498e2",
   "metadata": {},
   "source": [
    "Ridge Regression is a technique for analyzing multiple regression data that suffer from multicollinearity.By adding a degree of bias to the regression estimates, ridge regression reduces the standard errors. It is hoped that the net effect will be to give estimates that are more reliable."
   ]
  },
  {
   "cell_type": "markdown",
   "id": "3638e905",
   "metadata": {},
   "source": [
    "Q13.Describe the concept of lasso regression ?"
   ]
  },
  {
   "cell_type": "markdown",
   "id": "da640dba",
   "metadata": {},
   "source": [
    "In statistics and machine learning, lasso (least absolute shrinkage and selection operator; also Lasso or LASSO) is a regression analysis method that performs both variable selection and regularization in order to enhance the prediction accuracy and interpretability of the resulting statistical model."
   ]
  },
  {
   "cell_type": "markdown",
   "id": "96a3d9b2",
   "metadata": {},
   "source": [
    "Q14.What is polynomial regression and how does it work ?"
   ]
  },
  {
   "cell_type": "markdown",
   "id": "83ca6da9",
   "metadata": {},
   "source": [
    "Polynomial Regression is a form of Linear regression known as a special case of Multiple linear regression which estimates the relationship as an nth degree polynomial. Polynomial Regression is sensitive to outliers so the presence of one or two outliers can also badly affect the performance."
   ]
  },
  {
   "cell_type": "markdown",
   "id": "6884bab3",
   "metadata": {},
   "source": [
    "Q15.Describe the basis function ?"
   ]
  },
  {
   "cell_type": "markdown",
   "id": "8731080b",
   "metadata": {},
   "source": [
    "This is a generalization of linear regression that essentially replaces each input with a function of the input. (A linear basis function model that uses the identity function is just linear regression.)"
   ]
  },
  {
   "cell_type": "markdown",
   "id": "05f18355",
   "metadata": {},
   "source": [
    "Q16.Describe how logistic regression works ?"
   ]
  },
  {
   "cell_type": "markdown",
   "id": "48500a9b",
   "metadata": {},
   "source": [
    " Logistic regression uses an equation as the representation, very much like linear regression. Input values (x) are combined linearly using weights or coefficient values (referred to as the Greek capital letter Beta) to predict an output value (y)."
   ]
  },
  {
   "cell_type": "code",
   "execution_count": null,
   "id": "4115c3ab",
   "metadata": {},
   "outputs": [],
   "source": []
  }
 ],
 "metadata": {
  "kernelspec": {
   "display_name": "Python 3 (ipykernel)",
   "language": "python",
   "name": "python3"
  },
  "language_info": {
   "codemirror_mode": {
    "name": "ipython",
    "version": 3
   },
   "file_extension": ".py",
   "mimetype": "text/x-python",
   "name": "python",
   "nbconvert_exporter": "python",
   "pygments_lexer": "ipython3",
   "version": "3.9.12"
  }
 },
 "nbformat": 4,
 "nbformat_minor": 5
}
