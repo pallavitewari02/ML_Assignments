{
 "cells": [
  {
   "cell_type": "markdown",
   "id": "566026f6",
   "metadata": {},
   "source": [
    "Q1.Is there any way to combine five different models that have all been trained on the same training data and have all achieved 95 percent precision? If so, how can you go about doing it? If not, what is the reason ?"
   ]
  },
  {
   "cell_type": "markdown",
   "id": "de1dbb36",
   "metadata": {},
   "source": [
    "Hybrid Model: A technique that combines two or more different machine learning models in some way. But we can't get 95 percent precision as all other models give different precision rate accuracy is differed."
   ]
  },
  {
   "cell_type": "markdown",
   "id": "12dc57f7",
   "metadata": {},
   "source": [
    "Q2.What's the difference between hard voting classifiers and soft voting classifiers ?"
   ]
  },
  {
   "cell_type": "markdown",
   "id": "0c5d3584",
   "metadata": {},
   "source": [
    "In hard voting (also known as majority voting), every individual classifier votes for a class, and the majority wins. In statistical terms, the predicted target label of the ensemble is the mode of the distribution of individually predicted labels.\n",
    "\n",
    "In soft voting, every individual classifier provides a probability value that a specific data point belongs to a particular target class. The predictions are weighted by the classifier's importance and summed up. Then the target label with the greatest sum of weighted probabilities wins the vote."
   ]
  },
  {
   "cell_type": "markdown",
   "id": "fc92ff27",
   "metadata": {},
   "source": [
    "Q3.Is it possible to distribute a bagging ensemble's training through several servers to speed up the process? Pasting ensembles, boosting ensembles, Random Forests, and stacking ensembles are all options ?"
   ]
  },
  {
   "cell_type": "markdown",
   "id": "9aef15fc",
   "metadata": {},
   "source": [
    "When sampling is performed without replacement, it is called pasting. In other words, both approaches are similar.In both cases you are sampling the training data to build multiple instances of a classifier.\n",
    "\n",
    "Boosting is a general ensemble method that creates a strong classifier from a number of weak classifiers. This is done by building a model from the training data, then creating a second model that attempts to correct the errors from the first model. It is the best starting point for understanding boosting."
   ]
  },
  {
   "cell_type": "markdown",
   "id": "b8349eef",
   "metadata": {},
   "source": [
    "Q4.What is the advantage of evaluating out of the bag ?"
   ]
  },
  {
   "cell_type": "markdown",
   "id": "16109996",
   "metadata": {},
   "source": [
    "The advantage of the OOB method is that it requires less computation and allows one to test the model as it is being trained."
   ]
  },
  {
   "cell_type": "markdown",
   "id": "26bc9ecb",
   "metadata": {},
   "source": [
    "Q5.What distinguishes Extra-Trees from ordinary Random Forests? What good would this extra randomness do? Is it true that Extra-Tree Random Forests are slower or faster than normal Random Forests ?"
   ]
  },
  {
   "cell_type": "markdown",
   "id": "1c1256cf",
   "metadata": {},
   "source": [
    "Random forest uses bootstrap replicas, that is to say, it subsamples the input data with replacement, whereas Extra Trees use the whole original sample. This may increase variance because bootstrapping makes it more diversified.\n",
    "\n",
    "Random forest adds additional randomness to the model, while growing the trees. Instead of searching for the most important feature while splitting a node, it searches for the best feature among a random subset of features. This results in a wide diversity that generally results in a better model. Extra Trees is much faster.\n",
    "\n",
    "This is because instead of looking for the optimal split at each node it does it randomly."
   ]
  },
  {
   "cell_type": "markdown",
   "id": "f458de8c",
   "metadata": {},
   "source": [
    "Q6.Which hyperparameters and how do you tweak if your AdaBoost ensemble underfits the training data ?"
   ]
  },
  {
   "cell_type": "markdown",
   "id": "0907d755",
   "metadata": {},
   "source": [
    "If your AdaBoost ensemble underfits the training data, you can try increasing the number of estimators or reducing the regularization hyperparameters of the base estimator. You may also try slightly increasing the learning rate."
   ]
  },
  {
   "cell_type": "markdown",
   "id": "4f9ce771",
   "metadata": {},
   "source": [
    "Q7.Should you raise or decrease the learning rate if your Gradient Boosting ensemble overfits the training set ?"
   ]
  },
  {
   "cell_type": "markdown",
   "id": "3ad43327",
   "metadata": {},
   "source": [
    "If your Gradient Boosting ensemble overfits the training set, you should try decreasing the learning rate. You could also use early stopping to find the right number of predictors (you probably have too many)"
   ]
  },
  {
   "cell_type": "code",
   "execution_count": null,
   "id": "222e2e1a",
   "metadata": {},
   "outputs": [],
   "source": []
  }
 ],
 "metadata": {
  "kernelspec": {
   "display_name": "Python 3 (ipykernel)",
   "language": "python",
   "name": "python3"
  },
  "language_info": {
   "codemirror_mode": {
    "name": "ipython",
    "version": 3
   },
   "file_extension": ".py",
   "mimetype": "text/x-python",
   "name": "python",
   "nbconvert_exporter": "python",
   "pygments_lexer": "ipython3",
   "version": "3.9.12"
  }
 },
 "nbformat": 4,
 "nbformat_minor": 5
}
